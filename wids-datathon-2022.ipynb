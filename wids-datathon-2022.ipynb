{
 "cells": [
  {
   "cell_type": "markdown",
   "id": "8a9f461a",
   "metadata": {
    "papermill": {
     "duration": 0.024083,
     "end_time": "2022-01-22T18:16:46.794798",
     "exception": false,
     "start_time": "2022-01-22T18:16:46.770715",
     "status": "completed"
    },
    "tags": []
   },
   "source": [
    "# Data plan:\n",
    "\n",
    "1. Initial data exploration\n",
    "\n",
    "2. EDA \n",
    "\n",
    "3. Initial model: compare models & optimise Hp\n",
    "\n",
    "4. Final model deployment on test data. "
   ]
  },
  {
   "cell_type": "markdown",
   "id": "6cae118d",
   "metadata": {
    "papermill": {
     "duration": 0.019568,
     "end_time": "2022-01-22T18:16:46.836389",
     "exception": false,
     "start_time": "2022-01-22T18:16:46.816821",
     "status": "completed"
    },
    "tags": []
   },
   "source": [
    "### Import packages:"
   ]
  },
  {
   "cell_type": "code",
   "execution_count": 1,
   "id": "693de57f",
   "metadata": {
    "execution": {
     "iopub.execute_input": "2022-01-22T18:16:46.879767Z",
     "iopub.status.busy": "2022-01-22T18:16:46.878479Z",
     "iopub.status.idle": "2022-01-22T18:16:48.109501Z",
     "shell.execute_reply": "2022-01-22T18:16:48.108613Z",
     "shell.execute_reply.started": "2022-01-22T17:42:51.297864Z"
    },
    "papermill": {
     "duration": 1.254197,
     "end_time": "2022-01-22T18:16:48.109714",
     "exception": false,
     "start_time": "2022-01-22T18:16:46.855517",
     "status": "completed"
    },
    "tags": []
   },
   "outputs": [],
   "source": [
    "import numpy as np\n",
    "import pandas as pd\n",
    "import matplotlib.pyplot as plt\n",
    "import seaborn as sns\n",
    "import warnings\n",
    "import os\n",
    "\n",
    "warnings.simplefilter(action = 'ignore', category = FutureWarning)\n",
    "pd.set_option('display.max_columns', None)"
   ]
  },
  {
   "cell_type": "markdown",
   "id": "38cf8f83",
   "metadata": {
    "papermill": {
     "duration": 0.020122,
     "end_time": "2022-01-22T18:16:48.150884",
     "exception": false,
     "start_time": "2022-01-22T18:16:48.130762",
     "status": "completed"
    },
    "tags": []
   },
   "source": [
    "## `Initial data exploration`"
   ]
  },
  {
   "cell_type": "code",
   "execution_count": 2,
   "id": "3407b112",
   "metadata": {
    "execution": {
     "iopub.execute_input": "2022-01-22T18:16:48.196479Z",
     "iopub.status.busy": "2022-01-22T18:16:48.195418Z",
     "iopub.status.idle": "2022-01-22T18:16:49.203656Z",
     "shell.execute_reply": "2022-01-22T18:16:49.204308Z",
     "shell.execute_reply.started": "2022-01-22T15:53:25.535927Z"
    },
    "papermill": {
     "duration": 1.03246,
     "end_time": "2022-01-22T18:16:49.204531",
     "exception": false,
     "start_time": "2022-01-22T18:16:48.172071",
     "status": "completed"
    },
    "tags": []
   },
   "outputs": [
    {
     "name": "stdout",
     "output_type": "stream",
     "text": [
      "No columns:  64\n"
     ]
    }
   ],
   "source": [
    "df = pd.read_csv(\"../input/widsdatathon2022/train.csv\")\n",
    "#df_test = pd.read_csv(\"../input/widsdatathon2022/test.csv\")\n",
    "\n",
    "print('No columns: ', len(df.columns))\n",
    "# print()\n",
    "# df.info()"
   ]
  },
  {
   "cell_type": "markdown",
   "id": "53b19144",
   "metadata": {
    "papermill": {
     "duration": 0.021298,
     "end_time": "2022-01-22T18:16:49.248177",
     "exception": false,
     "start_time": "2022-01-22T18:16:49.226879",
     "status": "completed"
    },
    "tags": []
   },
   "source": [
    "----------------------\n",
    "### Types of features:"
   ]
  },
  {
   "cell_type": "markdown",
   "id": "41b6c73d",
   "metadata": {
    "papermill": {
     "duration": 0.020509,
     "end_time": "2022-01-22T18:16:49.290241",
     "exception": false,
     "start_time": "2022-01-22T18:16:49.269732",
     "status": "completed"
    },
    "tags": []
   },
   "source": [
    "`Outcome` feature: \n",
    "- `site_eui` : Site Energy Usage Intensity is the amount of heat and electricity consumed by a building as reflected in utility bills"
   ]
  },
  {
   "cell_type": "code",
   "execution_count": 3,
   "id": "22929a19",
   "metadata": {
    "execution": {
     "iopub.execute_input": "2022-01-22T18:16:49.344418Z",
     "iopub.status.busy": "2022-01-22T18:16:49.343227Z",
     "iopub.status.idle": "2022-01-22T18:16:49.661167Z",
     "shell.execute_reply": "2022-01-22T18:16:49.661700Z",
     "shell.execute_reply.started": "2022-01-22T18:02:34.857777Z"
    },
    "papermill": {
     "duration": 0.349324,
     "end_time": "2022-01-22T18:16:49.661896",
     "exception": false,
     "start_time": "2022-01-22T18:16:49.312572",
     "status": "completed"
    },
    "tags": []
   },
   "outputs": [
    {
     "data": {
      "image/png": "[encoded data removed]",
      "text/plain": [
       "<Figure size 432x288 with 1 Axes>"
      ]
     },
     "metadata": {
      "needs_background": "light"
     },
     "output_type": "display_data"
    }
   ],
   "source": [
    "# print(df['site_eui'].describe())\n",
    "plt.hist(df['site_eui'], bins = 30)\n",
    "plt.show()"
   ]
  },
  {
   "cell_type": "code",
   "execution_count": 4,
   "id": "fb3297d7",
   "metadata": {
    "execution": {
     "iopub.execute_input": "2022-01-22T18:16:49.721324Z",
     "iopub.status.busy": "2022-01-22T18:16:49.719572Z",
     "iopub.status.idle": "2022-01-22T18:16:49.752361Z",
     "shell.execute_reply": "2022-01-22T18:16:49.751142Z",
     "shell.execute_reply.started": "2022-01-22T15:51:19.080393Z"
    },
    "papermill": {
     "duration": 0.068643,
     "end_time": "2022-01-22T18:16:49.752601",
     "exception": false,
     "start_time": "2022-01-22T18:16:49.683958",
     "status": "completed"
    },
    "tags": []
   },
   "outputs": [
    {
     "name": "stdout",
     "output_type": "stream",
     "text": [
      "object: 3\n",
      "['State_Factor', 'building_class', 'facility_type']\n",
      "\n",
      "float64: 24\n",
      "['floor_area', 'year_built', 'energy_star_rating', 'ELEVATION', 'january_avg_temp', 'february_avg_temp', 'march_avg_temp', 'april_avg_temp', 'may_avg_temp', 'june_avg_temp', 'july_avg_temp', 'august_avg_temp', 'september_avg_temp', 'october_avg_temp', 'november_avg_temp', 'december_avg_temp', 'precipitation_inches', 'snowfall_inches', 'avg_temp', 'direction_max_wind_speed', 'direction_peak_wind_speed', 'max_wind_speed', 'days_with_fog', 'site_eui']\n",
      "\n",
      "int64: 37\n",
      "['Year_Factor', 'january_min_temp', 'january_max_temp', 'february_min_temp', 'february_max_temp', 'march_min_temp', 'march_max_temp', 'april_min_temp', 'april_max_temp', 'may_min_temp', 'may_max_temp', 'june_min_temp', 'june_max_temp', 'july_min_temp', 'july_max_temp', 'august_min_temp', 'august_max_temp', 'september_min_temp', 'september_max_temp', 'october_min_temp', 'october_max_temp', 'november_min_temp', 'november_max_temp', 'december_min_temp', 'december_max_temp', 'cooling_degree_days', 'heating_degree_days', 'snowdepth_inches', 'days_below_30F', 'days_below_20F', 'days_below_10F', 'days_below_0F', 'days_above_80F', 'days_above_90F', 'days_above_100F', 'days_above_110F', 'id']\n",
      "\n"
     ]
    }
   ],
   "source": [
    "cols_dict = {}\n",
    "\n",
    "for typ in ('object','float64', 'int64'):\n",
    "    cols = df.select_dtypes(typ).columns\n",
    "    cols_dict[typ] = cols.tolist()\n",
    "    print ('{}: {}'.format(typ, len(cols)))\n",
    "    print(cols.tolist())\n",
    "    print()"
   ]
  },
  {
   "cell_type": "code",
   "execution_count": 5,
   "id": "b75fb803",
   "metadata": {
    "execution": {
     "iopub.execute_input": "2022-01-22T18:16:49.805058Z",
     "iopub.status.busy": "2022-01-22T18:16:49.803990Z",
     "iopub.status.idle": "2022-01-22T18:16:49.894993Z",
     "shell.execute_reply": "2022-01-22T18:16:49.895562Z",
     "shell.execute_reply.started": "2022-01-22T15:59:14.743353Z"
    },
    "papermill": {
     "duration": 0.121408,
     "end_time": "2022-01-22T18:16:49.895779",
     "exception": false,
     "start_time": "2022-01-22T18:16:49.774371",
     "status": "completed"
    },
    "tags": []
   },
   "outputs": [
    {
     "name": "stdout",
     "output_type": "stream",
     "text": [
      "State_Factor :  7\n",
      "State_6     50840\n",
      "State_11     6412\n",
      "State_1      5618\n",
      "State_2      4871\n",
      "State_4      4300\n",
      "State_8      3701\n",
      "State_10       15\n",
      "Name: State_Factor, dtype: int64\n",
      "\n",
      "building_class :  2\n",
      "Residential    43558\n",
      "Commercial     32199\n",
      "Name: building_class, dtype: int64\n",
      "\n",
      "facility_type :  60\n",
      "Multifamily_Uncategorized                    39455\n",
      "Office_Uncategorized                         12512\n",
      "Education_Other_classroom                     3860\n",
      "Lodging_Hotel                                 2098\n",
      "2to4_Unit_Building                            1893\n",
      "Commercial_Other                              1744\n",
      "5plus_Unit_Building                           1273\n",
      "Warehouse_Nonrefrigerated                     1255\n",
      "Retail_Uncategorized                          1130\n",
      "Education_College_or_university               1056\n",
      "Nursing_Home                                   772\n",
      "Education_Uncategorized                        709\n",
      "Mixed_Use_Commercial_and_Residential           672\n",
      "Lodging_Dormitory_or_fraternity_sorority       669\n",
      "Warehouse_Distribution_or_Shipping_center      604\n",
      "Warehouse_Selfstorage                          577\n",
      "Grocery_store_or_food_market                   448\n",
      "Office_Medical_non_diagnostic                  447\n",
      "Health_Care_Inpatient                          409\n",
      "Religious_worship                              399\n",
      "Industrial                                     384\n",
      "Warehouse_Uncategorized                        330\n",
      "Mixed_Use_Predominantly_Commercial             256\n",
      "Parking_Garage                                 251\n",
      "Office_Bank_or_other_financial                 173\n",
      "Public_Assembly_Library                        160\n",
      "Public_Safety_Fire_or_police_station           157\n",
      "Public_Assembly_Other                          142\n",
      "Service_Vehicle_service_repair_shop            138\n",
      "Retail_Enclosed_mall                           120\n",
      "Retail_Strip_shopping_mall                     113\n",
      "Warehouse_Refrigerated                         113\n",
      "Public_Assembly_Entertainment_culture          110\n",
      "Education_Preschool_or_daycare                 108\n",
      "Laboratory                                     107\n",
      "Commercial_Unknown                              95\n",
      "Public_Assembly_Social_meeting                  88\n",
      "Lodging_Other                                   75\n",
      "Retail_Vehicle_dealership_showroom              74\n",
      "Public_Assembly_Recreation                      72\n",
      "Food_Sales                                      70\n",
      "Public_Assembly_Drama_theater                   70\n",
      "Service_Uncategorized                           68\n",
      "Food_Service_Restaurant_or_cafeteria            64\n",
      "Health_Care_Outpatient_Clinic                   56\n",
      "Health_Care_Uncategorized                       51\n",
      "Public_Safety_Uncategorized                     43\n",
      "Public_Assembly_Movie_Theater                   39\n",
      "Public_Safety_Courthouse                        38\n",
      "Public_Safety_Penitentiary                      37\n",
      "Health_Care_Outpatient_Uncategorized            36\n",
      "Data_Center                                     27\n",
      "Public_Assembly_Uncategorized                   25\n",
      "Office_Mixed_use                                18\n",
      "Food_Service_Uncategorized                      18\n",
      "Food_Service_Other                              17\n",
      "Mixed_Use_Predominantly_Residential              9\n",
      "Public_Assembly_Stadium                          9\n",
      "Service_Drycleaning_or_Laundry                   9\n",
      "Lodging_Uncategorized                            5\n",
      "Name: facility_type, dtype: int64\n",
      "\n"
     ]
    }
   ],
   "source": [
    "for col in cols_dict['object']:\n",
    "    print(col, \": \", df[col].value_counts().shape[0])\n",
    "    print(df[col].value_counts())\n",
    "    print()"
   ]
  },
  {
   "cell_type": "code",
   "execution_count": 6,
   "id": "2e5e8389",
   "metadata": {
    "execution": {
     "iopub.execute_input": "2022-01-22T18:16:49.944277Z",
     "iopub.status.busy": "2022-01-22T18:16:49.943510Z",
     "iopub.status.idle": "2022-01-22T18:16:49.978841Z",
     "shell.execute_reply": "2022-01-22T18:16:49.977003Z",
     "shell.execute_reply.started": "2022-01-22T16:50:40.978965Z"
    },
    "papermill": {
     "duration": 0.061889,
     "end_time": "2022-01-22T18:16:49.979107",
     "exception": false,
     "start_time": "2022-01-22T18:16:49.917218",
     "status": "completed"
    },
    "tags": []
   },
   "outputs": [
    {
     "name": "stdout",
     "output_type": "stream",
     "text": [
      "floor_area\n",
      "mean    165983.865858\n",
      "50%      91367.000000\n",
      "25%      62379.000000\n",
      "75%     166000.000000\n",
      "Name: floor_area, dtype: float64\n",
      "\n",
      "year_built\n",
      "mean    1952.306764\n",
      "50%     1951.000000\n",
      "25%     1927.000000\n",
      "75%     1977.000000\n",
      "Name: year_built, dtype: float64\n",
      "\n",
      "energy_star_rating\n",
      "mean    61.048605\n",
      "50%     67.000000\n",
      "25%     40.000000\n",
      "75%     85.000000\n",
      "Name: energy_star_rating, dtype: float64\n",
      "\n"
     ]
    }
   ],
   "source": [
    "for col in cols_dict['float64'][:3]:\n",
    "    print(col)\n",
    "    print(df[col].describe()[['mean','50%','25%','75%']])\n",
    "    print()"
   ]
  },
  {
   "cell_type": "markdown",
   "id": "5932f4b5",
   "metadata": {
    "papermill": {
     "duration": 0.021135,
     "end_time": "2022-01-22T18:16:50.023997",
     "exception": false,
     "start_time": "2022-01-22T18:16:50.002862",
     "status": "completed"
    },
    "tags": []
   },
   "source": [
    "----------\n",
    "## `Exploratory Data Analysis`:"
   ]
  },
  {
   "cell_type": "markdown",
   "id": "59a724aa",
   "metadata": {
    "papermill": {
     "duration": 0.020941,
     "end_time": "2022-01-22T18:16:50.067508",
     "exception": false,
     "start_time": "2022-01-22T18:16:50.046567",
     "status": "completed"
    },
    "tags": []
   },
   "source": [
    "### Examine `Temperature measures`:\n",
    "\n",
    "#### Average measures:\n",
    "- `_min_temp`, `_avg_temp`, `_max_temp` + 1 `avg_temp`\n",
    "- 3 x 12 + 1"
   ]
  },
  {
   "cell_type": "code",
   "execution_count": 7,
   "id": "8a6bf007",
   "metadata": {
    "execution": {
     "iopub.execute_input": "2022-01-22T18:16:50.124596Z",
     "iopub.status.busy": "2022-01-22T18:16:50.123591Z",
     "iopub.status.idle": "2022-01-22T18:16:50.128189Z",
     "shell.execute_reply": "2022-01-22T18:16:50.127480Z",
     "shell.execute_reply.started": "2022-01-22T18:05:53.149721Z"
    },
    "papermill": {
     "duration": 0.037034,
     "end_time": "2022-01-22T18:16:50.128347",
     "exception": false,
     "start_time": "2022-01-22T18:16:50.091313",
     "status": "completed"
    },
    "tags": []
   },
   "outputs": [
    {
     "data": {
      "text/plain": [
       "Index(['january_min_temp', 'january_avg_temp', 'january_max_temp',\n",
       "       'february_min_temp', 'february_avg_temp', 'february_max_temp',\n",
       "       'march_min_temp', 'march_avg_temp', 'march_max_temp', 'april_min_temp',\n",
       "       'april_avg_temp', 'april_max_temp', 'may_min_temp', 'may_avg_temp',\n",
       "       'may_max_temp', 'june_min_temp', 'june_avg_temp', 'june_max_temp',\n",
       "       'july_min_temp', 'july_avg_temp', 'july_max_temp', 'august_min_temp',\n",
       "       'august_avg_temp', 'august_max_temp', 'september_min_temp',\n",
       "       'september_avg_temp', 'september_max_temp', 'october_min_temp',\n",
       "       'october_avg_temp', 'october_max_temp', 'november_min_temp',\n",
       "       'november_avg_temp', 'november_max_temp', 'december_min_temp',\n",
       "       'december_avg_temp', 'december_max_temp', 'avg_temp'],\n",
       "      dtype='object')"
      ]
     },
     "execution_count": 7,
     "metadata": {},
     "output_type": "execute_result"
    }
   ],
   "source": [
    "dict_temp = {}\n",
    "dict_temp['tempetature'] = df.columns[[c.endswith('temp') for c in df.columns]].tolist()\n",
    "\n",
    "temp_cols = df.columns[[c.endswith('temp') for c in df.columns]].tolist()\n",
    "df.columns[[c.endswith('temp') for c in df.columns]] #.tolist()"
   ]
  },
  {
   "cell_type": "code",
   "execution_count": 8,
   "id": "c3bb140d",
   "metadata": {
    "execution": {
     "iopub.execute_input": "2022-01-22T18:16:50.185362Z",
     "iopub.status.busy": "2022-01-22T18:16:50.183830Z",
     "iopub.status.idle": "2022-01-22T18:16:50.669057Z",
     "shell.execute_reply": "2022-01-22T18:16:50.670014Z",
     "shell.execute_reply.started": "2022-01-22T17:58:36.517403Z"
    },
    "papermill": {
     "duration": 0.519654,
     "end_time": "2022-01-22T18:16:50.670229",
     "exception": false,
     "start_time": "2022-01-22T18:16:50.150575",
     "status": "completed"
    },
    "tags": []
   },
   "outputs": [
    {
     "data": {
      "image/png": "[encoded data removed]",
      "text/plain": [
       "<Figure size 432x288 with 2 Axes>"
      ]
     },
     "metadata": {
      "needs_background": "light"
     },
     "output_type": "display_data"
    }
   ],
   "source": [
    "temp_corr = df[df.columns[[c.endswith('avg_temp') for c in df.columns]].tolist()].corr()\n",
    "sns.heatmap(temp_corr, cmap=\"coolwarm\")\n",
    "plt.show()"
   ]
  },
  {
   "cell_type": "code",
   "execution_count": 9,
   "id": "f9116977",
   "metadata": {
    "execution": {
     "iopub.execute_input": "2022-01-22T18:16:50.736674Z",
     "iopub.status.busy": "2022-01-22T18:16:50.729186Z",
     "iopub.status.idle": "2022-01-22T18:16:50.902493Z",
     "shell.execute_reply": "2022-01-22T18:16:50.903045Z",
     "shell.execute_reply.started": "2022-01-22T16:49:50.665072Z"
    },
    "papermill": {
     "duration": 0.208537,
     "end_time": "2022-01-22T18:16:50.903249",
     "exception": false,
     "start_time": "2022-01-22T18:16:50.694712",
     "status": "completed"
    },
    "tags": []
   },
   "outputs": [],
   "source": [
    "temp_min = df[df.columns[[el.endswith('min_temp') for el in df.columns]]].describe().T\n",
    "temp_min['month'] = temp_min.index\n",
    "temp_min['month'] = [m.replace('_min_temp','') for m in temp_min.index]\n",
    "\n",
    "temp_max = df[df.columns[[el.endswith('max_temp') for el in df.columns]]].describe().T\n",
    "temp_max['month'] = temp_max.index\n",
    "temp_max['month'] = [m.replace('_max_temp','') for m in temp_max.index]\n",
    "\n",
    "temp_avg = df[df.columns[[el.endswith('_avg_temp') for el in df.columns]]].describe().T\n",
    "temp_avg['month'] = temp_avg.index\n",
    "temp_avg['month'] = [m.replace('_avg_temp','') for m in temp_avg.index]"
   ]
  },
  {
   "cell_type": "code",
   "execution_count": 10,
   "id": "2976e568",
   "metadata": {
    "execution": {
     "iopub.execute_input": "2022-01-22T18:16:50.961010Z",
     "iopub.status.busy": "2022-01-22T18:16:50.959786Z",
     "iopub.status.idle": "2022-01-22T18:16:51.333255Z",
     "shell.execute_reply": "2022-01-22T18:16:51.333813Z",
     "shell.execute_reply.started": "2022-01-22T17:57:26.824479Z"
    },
    "papermill": {
     "duration": 0.405803,
     "end_time": "2022-01-22T18:16:51.334054",
     "exception": false,
     "start_time": "2022-01-22T18:16:50.928251",
     "status": "completed"
    },
    "tags": []
   },
   "outputs": [
    {
     "data": {
      "image/png": "[encoded data removed]",
      "text/plain": [
       "<Figure size 432x288 with 1 Axes>"
      ]
     },
     "metadata": {
      "needs_background": "light"
     },
     "output_type": "display_data"
    }
   ],
   "source": [
    "plt.plot(temp_avg['month'], temp_avg['mean'], label = 'AVG', color = 'grey')\n",
    "\n",
    "plt.plot(temp_min['month'], temp_min['min'], label = 'MIN min', color = 'blue', alpha = 0.1)\n",
    "plt.plot(temp_min['month'], (temp_min['mean'] - temp_min['std']), label = 'MIN -1SD', \n",
    "         color = 'blue', alpha = 0.4)\n",
    "plt.plot(temp_min['month'], temp_min['mean'], label = 'MIN', color = 'blue')\n",
    "plt.plot(temp_min['month'], (temp_min['mean'] + temp_min['std']), label = 'MIN +1SD', \n",
    "         color = 'blue', alpha = 0.4)\n",
    "plt.plot(temp_min['month'], temp_min['max'], label = 'MIN max', color = 'blue', alpha = 0.1)\n",
    "\n",
    "plt.plot(temp_max['month'], temp_max['min'], label = 'MAX min', color = 'red', alpha = 0.1)\n",
    "plt.plot(temp_max['month'], (temp_max['mean'] - temp_max['std']), label = 'MAX -1SD', \n",
    "         color = 'red', alpha = 0.4)\n",
    "plt.plot(temp_max['month'], temp_max['mean'], label = 'MAX', color = 'red')\n",
    "plt.plot(temp_max['month'], (temp_max['mean'] + temp_max['std']), label = 'MAX + 1', \n",
    "         color = 'red', alpha = 0.4)\n",
    "plt.plot(temp_max['month'], temp_max['max'], label = 'MAX max', color = 'red', alpha = 0.1)\n",
    "\n",
    "plt.xticks(rotation = 45)\n",
    "plt.legend(bbox_to_anchor=(1, 1))\n",
    "plt.title('Min - Avg - Max temperature')\n",
    "plt.ylabel('Temperature distribution')\n",
    "plt.show()"
   ]
  },
  {
   "cell_type": "markdown",
   "id": "e23163c0",
   "metadata": {
    "papermill": {
     "duration": 0.026526,
     "end_time": "2022-01-22T18:16:51.386377",
     "exception": false,
     "start_time": "2022-01-22T18:16:51.359851",
     "status": "completed"
    },
    "tags": []
   },
   "source": [
    "#### Extreme temperatures:\n",
    "\n",
    "- `days_below_*` and `days_above_*`"
   ]
  },
  {
   "cell_type": "code",
   "execution_count": 11,
   "id": "673f66f5",
   "metadata": {
    "execution": {
     "iopub.execute_input": "2022-01-22T18:16:51.450122Z",
     "iopub.status.busy": "2022-01-22T18:16:51.449380Z",
     "iopub.status.idle": "2022-01-22T18:16:51.454237Z",
     "shell.execute_reply": "2022-01-22T18:16:51.454766Z",
     "shell.execute_reply.started": "2022-01-22T18:07:15.340452Z"
    },
    "papermill": {
     "duration": 0.040705,
     "end_time": "2022-01-22T18:16:51.455000",
     "exception": false,
     "start_time": "2022-01-22T18:16:51.414295",
     "status": "completed"
    },
    "tags": []
   },
   "outputs": [
    {
     "data": {
      "text/plain": [
       "Index(['days_below_30F', 'days_below_20F', 'days_below_10F', 'days_below_0F',\n",
       "       'days_above_80F', 'days_above_90F', 'days_above_100F',\n",
       "       'days_above_110F'],\n",
       "      dtype='object')"
      ]
     },
     "execution_count": 11,
     "metadata": {},
     "output_type": "execute_result"
    }
   ],
   "source": [
    "below = df.columns[[c.startswith('days_below') for c in df.columns]]\n",
    "above = df.columns[[c.startswith('days_above') for c in df.columns]]\n",
    "extreme = df.columns[[c.startswith(('days_below','days_above')) for c in df.columns]]\n",
    "\n",
    "dict_temp['extreme'] = df.columns[[c.startswith(('days_below','days_above')) for c in df.columns]].to_list()\n",
    "\n",
    "df.columns[[c.startswith(('days_below','days_above')) for c in df.columns]]"
   ]
  },
  {
   "cell_type": "code",
   "execution_count": 12,
   "id": "653a16dd",
   "metadata": {
    "execution": {
     "iopub.execute_input": "2022-01-22T18:16:51.542643Z",
     "iopub.status.busy": "2022-01-22T18:16:51.512678Z",
     "iopub.status.idle": "2022-01-22T18:16:52.537382Z",
     "shell.execute_reply": "2022-01-22T18:16:52.537923Z",
     "shell.execute_reply.started": "2022-01-22T17:57:05.338472Z"
    },
    "papermill": {
     "duration": 1.056492,
     "end_time": "2022-01-22T18:16:52.538141",
     "exception": false,
     "start_time": "2022-01-22T18:16:51.481649",
     "status": "completed"
    },
    "tags": []
   },
   "outputs": [
    {
     "data": {
      "image/png": "[encoded data removed]",
      "text/plain": [
       "<Figure size 720x216 with 2 Axes>"
      ]
     },
     "metadata": {
      "needs_background": "light"
     },
     "output_type": "display_data"
    }
   ],
   "source": [
    "plt.figure(figsize = (10,3))\n",
    "plt.subplot(1,2,1)\n",
    "for alpha, b in zip([0.2,0.3,0.4,0.5], below):\n",
    "    plt.hist(df[b], color = 'blue', alpha = alpha, bins = 20, label = b)\n",
    "    plt.legend()\n",
    "    plt.title('Extreme low temperature')\n",
    "    plt.xlabel('degrees in F')\n",
    "    \n",
    "plt.subplot(1,2,2)\n",
    "for alpha, a in zip([0.2,0.3,0.4,0.5], above):\n",
    "    plt.hist(df[a], color = 'red', alpha = alpha, bins = 20, label = a)\n",
    "    plt.legend()\n",
    "    plt.title('Extreme high temperature')\n",
    "    plt.xlabel('degrees in F')"
   ]
  },
  {
   "cell_type": "code",
   "execution_count": 13,
   "id": "96f69ed0",
   "metadata": {
    "execution": {
     "iopub.execute_input": "2022-01-22T18:16:52.595461Z",
     "iopub.status.busy": "2022-01-22T18:16:52.594421Z",
     "iopub.status.idle": "2022-01-22T18:16:52.954774Z",
     "shell.execute_reply": "2022-01-22T18:16:52.955612Z",
     "shell.execute_reply.started": "2022-01-22T17:58:25.917871Z"
    },
    "papermill": {
     "duration": 0.391049,
     "end_time": "2022-01-22T18:16:52.955843",
     "exception": false,
     "start_time": "2022-01-22T18:16:52.564794",
     "status": "completed"
    },
    "tags": []
   },
   "outputs": [
    {
     "data": {
      "image/png": "[encoded data removed]",
      "text/plain": [
       "<Figure size 432x288 with 2 Axes>"
      ]
     },
     "metadata": {
      "needs_background": "light"
     },
     "output_type": "display_data"
    }
   ],
   "source": [
    "extr_corr = df[df.columns[[c.startswith(('days_below','days_above')) for c in df.columns]].tolist()].corr()\n",
    "sns.heatmap(extr_corr, cmap=\"coolwarm\")\n",
    "plt.show()"
   ]
  },
  {
   "cell_type": "code",
   "execution_count": 14,
   "id": "c65cff52",
   "metadata": {
    "execution": {
     "iopub.execute_input": "2022-01-22T18:16:53.025630Z",
     "iopub.status.busy": "2022-01-22T18:16:53.019764Z",
     "iopub.status.idle": "2022-01-22T18:16:53.035069Z",
     "shell.execute_reply": "2022-01-22T18:16:53.035580Z",
     "shell.execute_reply.started": "2022-01-22T17:42:09.859447Z"
    },
    "papermill": {
     "duration": 0.051121,
     "end_time": "2022-01-22T18:16:53.035790",
     "exception": false,
     "start_time": "2022-01-22T18:16:52.984669",
     "status": "completed"
    },
    "tags": []
   },
   "outputs": [
    {
     "data": {
      "text/plain": [
       "Index(['Year_Factor', 'State_Factor', 'building_class', 'facility_type',\n",
       "       'floor_area', 'year_built', 'energy_star_rating', 'ELEVATION',\n",
       "       'cooling_degree_days', 'heating_degree_days', 'precipitation_inches',\n",
       "       'snowfall_inches', 'snowdepth_inches', 'days_below_30F',\n",
       "       'days_below_20F', 'days_below_10F', 'days_below_0F', 'days_above_80F',\n",
       "       'days_above_90F', 'days_above_100F', 'days_above_110F',\n",
       "       'direction_max_wind_speed', 'direction_peak_wind_speed',\n",
       "       'max_wind_speed', 'days_with_fog', 'site_eui', 'id'],\n",
       "      dtype='object')"
      ]
     },
     "execution_count": 14,
     "metadata": {},
     "output_type": "execute_result"
    }
   ],
   "source": [
    "df.drop(temp_cols, axis = 1).columns"
   ]
  },
  {
   "cell_type": "code",
   "execution_count": 15,
   "id": "f7c1ff31",
   "metadata": {
    "execution": {
     "iopub.execute_input": "2022-01-22T18:16:53.100828Z",
     "iopub.status.busy": "2022-01-22T18:16:53.097488Z",
     "iopub.status.idle": "2022-01-22T18:16:53.137031Z",
     "shell.execute_reply": "2022-01-22T18:16:53.136343Z",
     "shell.execute_reply.started": "2022-01-22T17:43:05.279142Z"
    },
    "papermill": {
     "duration": 0.073548,
     "end_time": "2022-01-22T18:16:53.137199",
     "exception": false,
     "start_time": "2022-01-22T18:16:53.063651",
     "status": "completed"
    },
    "tags": []
   },
   "outputs": [
    {
     "data": {
      "text/html": [
       "<div>\n",
       "<style scoped>\n",
       "    .dataframe tbody tr th:only-of-type {\n",
       "        vertical-align: middle;\n",
       "    }\n",
       "\n",
       "    .dataframe tbody tr th {\n",
       "        vertical-align: top;\n",
       "    }\n",
       "\n",
       "    .dataframe thead th {\n",
       "        text-align: right;\n",
       "    }\n",
       "</style>\n",
       "<table border=\"1\" class=\"dataframe\">\n",
       "  <thead>\n",
       "    <tr style=\"text-align: right;\">\n",
       "      <th></th>\n",
       "      <th>Year_Factor</th>\n",
       "      <th>State_Factor</th>\n",
       "      <th>building_class</th>\n",
       "      <th>facility_type</th>\n",
       "      <th>floor_area</th>\n",
       "      <th>year_built</th>\n",
       "      <th>energy_star_rating</th>\n",
       "      <th>ELEVATION</th>\n",
       "      <th>cooling_degree_days</th>\n",
       "      <th>heating_degree_days</th>\n",
       "      <th>precipitation_inches</th>\n",
       "      <th>snowfall_inches</th>\n",
       "      <th>snowdepth_inches</th>\n",
       "      <th>days_below_30F</th>\n",
       "      <th>days_below_20F</th>\n",
       "      <th>days_below_10F</th>\n",
       "      <th>days_below_0F</th>\n",
       "      <th>days_above_80F</th>\n",
       "      <th>days_above_90F</th>\n",
       "      <th>days_above_100F</th>\n",
       "      <th>days_above_110F</th>\n",
       "      <th>direction_max_wind_speed</th>\n",
       "      <th>direction_peak_wind_speed</th>\n",
       "      <th>max_wind_speed</th>\n",
       "      <th>days_with_fog</th>\n",
       "      <th>site_eui</th>\n",
       "      <th>id</th>\n",
       "    </tr>\n",
       "  </thead>\n",
       "  <tbody>\n",
       "    <tr>\n",
       "      <th>0</th>\n",
       "      <td>1</td>\n",
       "      <td>State_1</td>\n",
       "      <td>Commercial</td>\n",
       "      <td>Grocery_store_or_food_market</td>\n",
       "      <td>61242.0</td>\n",
       "      <td>1942.0</td>\n",
       "      <td>11.0</td>\n",
       "      <td>2.4</td>\n",
       "      <td>115</td>\n",
       "      <td>2960</td>\n",
       "      <td>16.59</td>\n",
       "      <td>0.0</td>\n",
       "      <td>0</td>\n",
       "      <td>0</td>\n",
       "      <td>0</td>\n",
       "      <td>0</td>\n",
       "      <td>0</td>\n",
       "      <td>14</td>\n",
       "      <td>0</td>\n",
       "      <td>0</td>\n",
       "      <td>0</td>\n",
       "      <td>1.0</td>\n",
       "      <td>1.0</td>\n",
       "      <td>1.0</td>\n",
       "      <td>NaN</td>\n",
       "      <td>248.682615</td>\n",
       "      <td>0</td>\n",
       "    </tr>\n",
       "    <tr>\n",
       "      <th>1</th>\n",
       "      <td>1</td>\n",
       "      <td>State_1</td>\n",
       "      <td>Commercial</td>\n",
       "      <td>Warehouse_Distribution_or_Shipping_center</td>\n",
       "      <td>274000.0</td>\n",
       "      <td>1955.0</td>\n",
       "      <td>45.0</td>\n",
       "      <td>1.8</td>\n",
       "      <td>115</td>\n",
       "      <td>2960</td>\n",
       "      <td>16.59</td>\n",
       "      <td>0.0</td>\n",
       "      <td>0</td>\n",
       "      <td>0</td>\n",
       "      <td>0</td>\n",
       "      <td>0</td>\n",
       "      <td>0</td>\n",
       "      <td>14</td>\n",
       "      <td>0</td>\n",
       "      <td>0</td>\n",
       "      <td>0</td>\n",
       "      <td>1.0</td>\n",
       "      <td>NaN</td>\n",
       "      <td>1.0</td>\n",
       "      <td>12.0</td>\n",
       "      <td>26.500150</td>\n",
       "      <td>1</td>\n",
       "    </tr>\n",
       "    <tr>\n",
       "      <th>2</th>\n",
       "      <td>1</td>\n",
       "      <td>State_1</td>\n",
       "      <td>Commercial</td>\n",
       "      <td>Retail_Enclosed_mall</td>\n",
       "      <td>280025.0</td>\n",
       "      <td>1951.0</td>\n",
       "      <td>97.0</td>\n",
       "      <td>1.8</td>\n",
       "      <td>115</td>\n",
       "      <td>2960</td>\n",
       "      <td>16.59</td>\n",
       "      <td>0.0</td>\n",
       "      <td>0</td>\n",
       "      <td>0</td>\n",
       "      <td>0</td>\n",
       "      <td>0</td>\n",
       "      <td>0</td>\n",
       "      <td>14</td>\n",
       "      <td>0</td>\n",
       "      <td>0</td>\n",
       "      <td>0</td>\n",
       "      <td>1.0</td>\n",
       "      <td>NaN</td>\n",
       "      <td>1.0</td>\n",
       "      <td>12.0</td>\n",
       "      <td>24.693619</td>\n",
       "      <td>2</td>\n",
       "    </tr>\n",
       "  </tbody>\n",
       "</table>\n",
       "</div>"
      ],
      "text/plain": [
       "   Year_Factor State_Factor building_class  \\\n",
       "0            1      State_1     Commercial   \n",
       "1            1      State_1     Commercial   \n",
       "2            1      State_1     Commercial   \n",
       "\n",
       "                               facility_type  floor_area  year_built  \\\n",
       "0               Grocery_store_or_food_market     61242.0      1942.0   \n",
       "1  Warehouse_Distribution_or_Shipping_center    274000.0      1955.0   \n",
       "2                       Retail_Enclosed_mall    280025.0      1951.0   \n",
       "\n",
       "   energy_star_rating  ELEVATION  cooling_degree_days  heating_degree_days  \\\n",
       "0                11.0        2.4                  115                 2960   \n",
       "1                45.0        1.8                  115                 2960   \n",
       "2                97.0        1.8                  115                 2960   \n",
       "\n",
       "   precipitation_inches  snowfall_inches  snowdepth_inches  days_below_30F  \\\n",
       "0                 16.59              0.0                 0               0   \n",
       "1                 16.59              0.0                 0               0   \n",
       "2                 16.59              0.0                 0               0   \n",
       "\n",
       "   days_below_20F  days_below_10F  days_below_0F  days_above_80F  \\\n",
       "0               0               0              0              14   \n",
       "1               0               0              0              14   \n",
       "2               0               0              0              14   \n",
       "\n",
       "   days_above_90F  days_above_100F  days_above_110F  direction_max_wind_speed  \\\n",
       "0               0                0                0                       1.0   \n",
       "1               0                0                0                       1.0   \n",
       "2               0                0                0                       1.0   \n",
       "\n",
       "   direction_peak_wind_speed  max_wind_speed  days_with_fog    site_eui  id  \n",
       "0                        1.0             1.0            NaN  248.682615   0  \n",
       "1                        NaN             1.0           12.0   26.500150   1  \n",
       "2                        NaN             1.0           12.0   24.693619   2  "
      ]
     },
     "execution_count": 15,
     "metadata": {},
     "output_type": "execute_result"
    }
   ],
   "source": [
    "df.drop(temp_cols, axis = 1).head(n = 3)"
   ]
  },
  {
   "cell_type": "markdown",
   "id": "7b4e1c9b",
   "metadata": {
    "papermill": {
     "duration": 0.030688,
     "end_time": "2022-01-22T18:16:53.198384",
     "exception": false,
     "start_time": "2022-01-22T18:16:53.167696",
     "status": "completed"
    },
    "tags": []
   },
   "source": [
    "-----------------\n",
    "### Missing data:"
   ]
  },
  {
   "cell_type": "code",
   "execution_count": 16,
   "id": "f2d38a3c",
   "metadata": {
    "execution": {
     "iopub.execute_input": "2022-01-22T18:16:53.266305Z",
     "iopub.status.busy": "2022-01-22T18:16:53.264788Z",
     "iopub.status.idle": "2022-01-22T18:16:53.811679Z",
     "shell.execute_reply": "2022-01-22T18:16:53.812257Z",
     "shell.execute_reply.started": "2022-01-22T15:41:27.111629Z"
    },
    "papermill": {
     "duration": 0.583785,
     "end_time": "2022-01-22T18:16:53.812460",
     "exception": false,
     "start_time": "2022-01-22T18:16:53.228675",
     "status": "completed"
    },
    "tags": []
   },
   "outputs": [
    {
     "data": {
      "text/plain": [
       "<AxesSubplot:>"
      ]
     },
     "execution_count": 16,
     "metadata": {},
     "output_type": "execute_result"
    },
    {
     "data": {
      "image/png": "[encoded data removed]",
      "text/plain": [
       "<Figure size 432x288 with 1 Axes>"
      ]
     },
     "metadata": {
      "needs_background": "light"
     },
     "output_type": "display_data"
    }
   ],
   "source": [
    "missing_data = np.round((df.isnull().sum() / df.shape[0]) * 100, 2).sort_values(ascending = False)[:10]\n",
    "\n",
    "sns.barplot(missing_data.values, missing_data.index, color = 'b')"
   ]
  },
  {
   "cell_type": "code",
   "execution_count": null,
   "id": "7298c869",
   "metadata": {
    "papermill": {
     "duration": 0.030061,
     "end_time": "2022-01-22T18:16:53.872699",
     "exception": false,
     "start_time": "2022-01-22T18:16:53.842638",
     "status": "completed"
    },
    "tags": []
   },
   "outputs": [],
   "source": []
  }
 ],
 "metadata": {
  "kernelspec": {
   "display_name": "Python 3",
   "language": "python",
   "name": "python3"
  },
  "language_info": {
   "codemirror_mode": {
    "name": "ipython",
    "version": 3
   },
   "file_extension": ".py",
   "mimetype": "text/x-python",
   "name": "python",
   "nbconvert_exporter": "python",
   "pygments_lexer": "ipython3",
   "version": "3.7.12"
  },
  "papermill": {
   "default_parameters": {},
   "duration": 20.933811,
   "end_time": "2022-01-22T18:16:54.916986",
   "environment_variables": {},
   "exception": null,
   "input_path": "__notebook__.ipynb",
   "output_path": "__notebook__.ipynb",
   "parameters": {},
   "start_time": "2022-01-22T18:16:33.983175",
   "version": "2.3.3"
  }
 },
 "nbformat": 4,
 "nbformat_minor": 5
}
